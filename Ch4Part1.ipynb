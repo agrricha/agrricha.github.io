{
 "cells": [
  {
   "cell_type": "code",
   "execution_count": 1,
   "id": "53884a97",
   "metadata": {},
   "outputs": [],
   "source": [
    "#!jupyter nbextension enable --py widgetsnbextension --sys-prefix\n",
    "#!jupyter serverextension enable voila --sys-prefix"
   ]
  },
  {
   "cell_type": "code",
   "execution_count": 178,
   "id": "71704e08",
   "metadata": {
    "scrolled": true
   },
   "outputs": [
    {
     "data": {
      "text/plain": [
       "<matplotlib.legend.Legend at 0x2ba3f26b0a0>"
      ]
     },
     "execution_count": 178,
     "metadata": {},
     "output_type": "execute_result"
    }
   ],
   "source": [
    "%matplotlib widget\n",
    "import ipywidgets as widgets\n",
    "import matplotlib.pyplot as plt\n",
    "import matplotlib.pyplot as plt1\n",
    "import numpy as np\n",
    "from IPython.display import display, clear_output\n",
    "from matplotlib import cm\n",
    "from matplotlib.ticker import LinearLocator\n",
    "from mpmath import nsum, exp, inf, sin\n",
    "from mpmath import *\n",
    "\n",
    "output1 = widgets.Output()\n",
    "output2 = widgets.Output()\n",
    "output3 = widgets.Output()\n",
    "# create some x data\n",
    "#x = np.linspace(0, 2 * np.pi, 100)\n",
    "\n",
    "e1 = 0.4 #m\n",
    "T0 = 300 #K\n",
    "#pi = 3.14\n",
    "#print(pi)\n",
    "XbyL = np.linspace(0,1,30)\n",
    "YbyL = np.linspace(0,1,30)\n",
    "#Defining x as x/L and y as y/L\n",
    "def T_profile(x, y, m):\n",
    "    TbyT0 = (4/pi)*nsum(lambda n: exp(-(2*n+1)*pi*y)*sin((2*n+1)*pi*x)/(2*n+1), [0, m])\n",
    "    return TbyT0\n",
    "\n",
    "x1 = 0.2\n",
    "y1 = 0.04\n",
    "\n",
    "def xbyLvTbyT0(y):\n",
    "    TxbyL = np.zeros(len(XbyL))\n",
    "    for i in range(len(XbyL)):\n",
    "        TxbyL[i]=T_profile(XbyL[i], y, inf)\n",
    "    return TxbyL\n",
    "\n",
    "def ybyLvTbyT0(x):\n",
    "    TybyL = np.zeros(len(YbyL))\n",
    "    for i in range(len(YbyL)):\n",
    "        TybyL[i]=T_profile(x, YbyL[i], inf)\n",
    "    return TybyL\n",
    "\n",
    "def nvTbyT0(x,y,n):\n",
    "    m = np.linspace(0,n,n)\n",
    "    TnbyL = np.zeros(len(m))\n",
    "    for i in range(len(m)):\n",
    "        TnbyL[i]=T_profile(x, y, m[i])\n",
    "        #print(TnbyL[i])\n",
    "    return TnbyL\n",
    "        \n",
    "# default line color\n",
    "initial_color = '#FF00DD'\n",
    "\n",
    "with output1:\n",
    "    fig, ax = plt.subplots(constrained_layout=True, figsize=(4, 4))\n",
    "     \n",
    "# move the toolbar to the bottom\n",
    "fig.canvas.toolbar_position = 'bottom'\n",
    "ax.grid(True)\n",
    "#line, = ax.plot(x_list, q_fin(x_list,k1,hi1,he1), initial_color, label='Q')\n",
    "line, = ax.plot(XbyL, xbyLvTbyT0(1), color='b', label='T')\n",
    "ax.set_xlim(0,1)\n",
    "ax.set_ylim(0,1)\n",
    "ax.set_xlabel('x')\n",
    "ax.set_ylabel('T/T0')\n",
    "ax.legend()\n",
    "\n",
    "with output2:\n",
    "    fig2, ax2 = plt.subplots(constrained_layout=True, figsize=(4, 4))\n",
    "     \n",
    "# move the toolbar to the bottom\n",
    "fig2.canvas.toolbar_position = 'bottom'\n",
    "ax2.grid(True)\n",
    "#line, = ax.plot(x_list, q_fin(x_list,k1,hi1,he1), initial_color, label='Q')\n",
    "line2, = ax2.plot(YbyL, ybyLvTbyT0(0.5), color='b', label='T')\n",
    "ax2.set_xlim(0,1)\n",
    "ax2.set_ylim(0,1)\n",
    "ax2.set_xlabel('y')\n",
    "ax2.set_ylabel('T/T0')\n",
    "ax2.legend()    \n",
    "\n",
    "N = np.linspace(0,40,40)\n",
    "with output3:\n",
    "    fig3, ax3 = plt.subplots(constrained_layout=True, figsize=(4, 4))\n",
    "     \n",
    "# move the toolbar to the bottom\n",
    "fig3.canvas.toolbar_position = 'bottom'\n",
    "#ax3.grid(True)\n",
    "line4, = ax3.plot(N, nvTbyT0(0.5,0.1,len(N)), color='b', label='T')\n",
    "#line3 = ax3.scatter(N, nvTbyT0(0.5,0.1,len(N)), color='b', label='T')\n",
    "ax3.set_xlim(0,40)\n",
    "ax3.set_ylim(0.7,0.95)\n",
    "ax3.set_xlabel('n')\n",
    "ax3.set_ylabel('T/T0')\n",
    "ax3.legend()    "
   ]
  },
  {
   "cell_type": "code",
   "execution_count": 179,
   "id": "6f14a36b",
   "metadata": {},
   "outputs": [],
   "source": [
    "#text_0 = widgets.HTML(value=\"<p>Consider the case of a composite wall - Wall A and Wall B with Wall A being heat generating. Assume there is not heat resistance between boundaries of Wall A and B. The left side of the Wall A is at ambient temperature of Tair = Tw = 300 K. Wall A has parameters La, Ka, with heat generation Q=400 W/m3. Wall B has parameters Lb, Kb, and h.</p>\")\n",
    "\n",
    "#vbox_text = widgets.VBox([text_0])"
   ]
  },
  {
   "cell_type": "code",
   "execution_count": 180,
   "id": "68407311",
   "metadata": {},
   "outputs": [],
   "source": [
    "# create some control elements\n",
    "x_slider = widgets.FloatSlider(value=0.5, min=0, max=1, step=0.1, description='x/L')\n",
    "y_slider = widgets.FloatSlider(value=1, min=0, max=1, step=0.1, description='y/L')\n",
    "n_slider = widgets.IntSlider(value=40, min=0, max=40, step=1, description='n')\n",
    "\n",
    "# callback functions\n",
    "def update1(change):\n",
    "    \"\"\"redraw line (update plot)\"\"\"\n",
    "    xnew = x_slider.value\n",
    "    ynew = y_slider.value\n",
    "    nnew = n_slider.value\n",
    "    nrange = np.linspace(0,nnew,nnew)\n",
    "    line.set_ydata(xbyLvTbyT0(ynew))\n",
    "    line2.set_ydata(ybyLvTbyT0(xnew))\n",
    "    #line4.set_xdata(nrange)\n",
    "    line4.set_ydata(nvTbyT0(xnew,ynew,40))\n",
    "    fig.canvas.draw()\n",
    "\n",
    "button = widgets.Button(description=\"Reset\")\n",
    "def on_button_clicked(b):\n",
    "    with output1:\n",
    "        x_slider.value = 0.5\n",
    "        y_slider.value = 1\n",
    "        n_slider.value = 15\n",
    "        \n",
    "\n",
    "button.on_click(on_button_clicked)\n",
    "\n",
    "x_slider.observe(update1, 'value')\n",
    "y_slider.observe(update1, 'value')\n",
    "n_slider.observe(update1, 'value')\n",
    "#Q_slider.observe(update1, 'value')\n"
   ]
  },
  {
   "cell_type": "code",
   "execution_count": 181,
   "id": "78f41732",
   "metadata": {},
   "outputs": [
    {
     "data": {
      "application/vnd.jupyter.widget-view+json": {
       "model_id": "d71043b267cd40a49b1c5f7e21425506",
       "version_major": 2,
       "version_minor": 0
      },
      "text/plain": [
       "VBox(children=(HBox(children=(FloatSlider(value=1.0, description='y/L', max=1.0), FloatSlider(value=0.5, descr…"
      ]
     },
     "metadata": {},
     "output_type": "display_data"
    }
   ],
   "source": [
    "clear_output()\n",
    "controls = widgets.HBox([y_slider, x_slider, button])\n",
    "plots = widgets.HBox([output1, output2])\n",
    "page = widgets.VBox([controls, plots])\n",
    "display(page)"
   ]
  },
  {
   "cell_type": "code",
   "execution_count": 182,
   "id": "baad7e45",
   "metadata": {},
   "outputs": [],
   "source": [
    "!pip freeze > requirements.txt"
   ]
  },
  {
   "cell_type": "code",
   "execution_count": null,
   "id": "ee88afad",
   "metadata": {},
   "outputs": [],
   "source": []
  }
 ],
 "metadata": {
  "kernelspec": {
   "display_name": "Python 3",
   "language": "python",
   "name": "python3"
  },
  "language_info": {
   "codemirror_mode": {
    "name": "ipython",
    "version": 3
   },
   "file_extension": ".py",
   "mimetype": "text/x-python",
   "name": "python",
   "nbconvert_exporter": "python",
   "pygments_lexer": "ipython3",
   "version": "3.8.10"
  },
  "varInspector": {
   "cols": {
    "lenName": 16,
    "lenType": 16,
    "lenVar": 40
   },
   "kernels_config": {
    "python": {
     "delete_cmd_postfix": "",
     "delete_cmd_prefix": "del ",
     "library": "var_list.py",
     "varRefreshCmd": "print(var_dic_list())"
    },
    "r": {
     "delete_cmd_postfix": ") ",
     "delete_cmd_prefix": "rm(",
     "library": "var_list.r",
     "varRefreshCmd": "cat(var_dic_list()) "
    }
   },
   "types_to_exclude": [
    "module",
    "function",
    "builtin_function_or_method",
    "instance",
    "_Feature"
   ],
   "window_display": false
  }
 },
 "nbformat": 4,
 "nbformat_minor": 5
}
