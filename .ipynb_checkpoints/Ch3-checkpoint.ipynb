{
 "cells": [
  {
   "cell_type": "code",
   "execution_count": 1,
   "id": "53884a97",
   "metadata": {},
   "outputs": [],
   "source": [
    "#!jupyter nbextension enable --py widgetsnbextension --sys-prefix\n",
    "#!jupyter serverextension enable voila --sys-prefix"
   ]
  },
  {
   "cell_type": "code",
   "execution_count": 177,
   "id": "71704e08",
   "metadata": {},
   "outputs": [
    {
     "data": {
      "text/plain": [
       "<matplotlib.legend.Legend at 0x1bf944a9d60>"
      ]
     },
     "execution_count": 177,
     "metadata": {},
     "output_type": "execute_result"
    }
   ],
   "source": [
    "%matplotlib widget\n",
    "import ipywidgets as widgets\n",
    "import matplotlib.pyplot as plt\n",
    "import numpy as np\n",
    "from IPython.display import display, clear_output\n",
    "\n",
    "output1 = widgets.Output()\n",
    "output2 = widgets.Output()\n",
    "output3 = widgets.Output()\n",
    "output4 = widgets.Output()\n",
    "# create some x data\n",
    "#x = np.linspace(0, 2 * np.pi, 100)\n",
    "\n",
    "e1 = 0.1 #m\n",
    "e2 = 0.02\n",
    "k1 = 1 #W/(m.K)\n",
    "k2 = 0.1\n",
    "hi1 = 7\n",
    "he1 = 2\n",
    "he2 = 1\n",
    "x_list = np.linspace(0.005,e1+0.005,10)\n",
    "x_list2 = np.linspace(0.005,e1+0.005,10)\n",
    "Ti = 1373 #K\n",
    "Te = 293 #K\n",
    "\n",
    "def T_fin(e):\n",
    "    T = []\n",
    "    for i in range(len(e)):\n",
    "        T.append((Ti-((Ti-Te)*e[i]/e[len(e)-1]))) \n",
    "    return T\n",
    "\n",
    "def q_fin(e,k,hi,he):\n",
    "    Q = ((Ti-Te)/(1/hi+e/k+1/he))\n",
    "    return Q\n",
    "\n",
    "def q_2fin(e,ee,k,kk,hi,he):\n",
    "    Q = ((Ti-Te)/(1/hi+e/k+ee/kk+1/he))\n",
    "    return Q\n",
    "\n",
    "def T_calc(Q, hi, k, kk, e, ee):\n",
    "    T1 = Ti - Q/hi\n",
    "    T2 = T1 - Q*e[len(e)-1]/k\n",
    "    T3 = T2 - Q*ee[len(ee)-1]/kk\n",
    "    Tin=[]\n",
    "    for i in range(len(e)):\n",
    "        Tin.append(T1 + e[i]*(T2-T1)/e[len(e)-1])\n",
    "    for i in range(len(ee)):\n",
    "        Tin.append((T3-T2)*(e[len(e)-1]+ee[i])/(ee[len(ee)-1])+(T2*(e[len(e)-1]+ee[len(ee)-1])-T3*e[len(e)-1])/(ee[len(ee)-1]))\n",
    "    return T1, T2, T3, Tin\n",
    "# default line color\n",
    "initial_color = '#FF00DD'\n",
    "#print(q_fin(x_list,k_list))\n",
    "with output1:\n",
    "    fig, ax = plt.subplots(constrained_layout=True, figsize=(8, 4))\n",
    "     \n",
    "# move the toolbar to the bottom\n",
    "fig.canvas.toolbar_position = 'bottom'\n",
    "ax.grid(True)\n",
    "#line, = ax.plot(x_list, q_fin(x_list,k1,hi1,he1), initial_color, label='Q')\n",
    "line, = ax.plot(x_list, T_fin(x_list), color='b', label='T')\n",
    "ax.set_xlim(0,0.2)\n",
    "ax.set_ylim(0,1670)\n",
    "ax.set_xlabel('x')\n",
    "ax.set_ylabel('T (K)')\n",
    "ax.legend()"
   ]
  },
  {
   "cell_type": "code",
   "execution_count": 178,
   "id": "68407311",
   "metadata": {},
   "outputs": [],
   "source": [
    "# create some control elements\n",
    "x_slider = widgets.FloatSlider(value=e1, min=0.05, max=0.2, step=0.05, description='e1')\n",
    "k_slider = widgets.FloatSlider(value=k1, min=0.05, max=2, step=0.05, description='k')\n",
    "he_slider = widgets.FloatSlider(value=he1, min=0.05, max=2.05, step=0.05, description='he')\n",
    "hi_slider = widgets.FloatSlider(value=hi1, min=0.05, max=8, step=0.05, description='hi')\n",
    "color_picker = widgets.ColorPicker(value=initial_color, description='pick a color')\n",
    "text_xlabel = widgets.Text(value='', description='xlabel', continuous_update=False)\n",
    "text_ylabel = widgets.Text(value='', description='ylabel', continuous_update=False)\n",
    "# callback functions\n",
    "def update1(change):\n",
    "    \"\"\"redraw line (update plot)\"\"\"\n",
    "    xnew = np.linspace(0.005,x_slider.value+0.005,10)\n",
    "    line.set_xdata(xnew)\n",
    "    line.set_ydata(T_fin(xnew))\n",
    "    fig.canvas.draw()\n",
    "    with output2:\n",
    "        clear_output()\n",
    "        print(f\"For e1 = {x_slider.value}, the value for Heat Flux is {q_fin(x_slider.value,k_slider.value,hi_slider.value,he_slider.value):.2f} W/m2\")\n",
    "\n",
    "x_slider.observe(update1, 'value')\n",
    "k_slider.observe(update1, 'value')\n",
    "he_slider.observe(update1, 'value')\n",
    "hi_slider.observe(update1, 'value')\n"
   ]
  },
  {
   "cell_type": "code",
   "execution_count": 179,
   "id": "78f41732",
   "metadata": {},
   "outputs": [
    {
     "data": {
      "application/vnd.jupyter.widget-view+json": {
       "model_id": "4c254d1dff8240498a68279cfda02021",
       "version_major": 2,
       "version_minor": 0
      },
      "text/plain": [
       "HBox(children=(VBox(children=(FloatSlider(value=0.1, description='e1', max=0.2, min=0.05, step=0.05), FloatSli…"
      ]
     },
     "metadata": {},
     "output_type": "display_data"
    }
   ],
   "source": [
    "clear_output()\n",
    "controls = widgets.VBox([x_slider, k_slider, he_slider,hi_slider, output2])\n",
    "page = widgets.HBox([controls, output1])\n",
    "display(page)"
   ]
  },
  {
   "cell_type": "code",
   "execution_count": 180,
   "id": "ba301442",
   "metadata": {},
   "outputs": [
    {
     "data": {
      "text/plain": [
       "<matplotlib.legend.Legend at 0x1bf952790d0>"
      ]
     },
     "execution_count": 180,
     "metadata": {},
     "output_type": "execute_result"
    }
   ],
   "source": [
    "Q2 = q_2fin(e1,e2,k1,k2,hi1,he2)\n",
    "\n",
    "with output3:\n",
    "    fig1, ax1 = plt.subplots(constrained_layout=True, figsize=(8, 4))\n",
    "\n",
    "T_tot = []\n",
    "x1 = np.linspace(0,e1,10)\n",
    "x2 = np.linspace(0,e2,10)\n",
    "x3 = np.linspace(0,e1+e2,20)\n",
    "T1,T2,T3,T_tot = T_calc(Q2, hi1, k1, k2, x1, x2) \n",
    "#print(T_tot)\n",
    "# move the toolbar to the bottom\n",
    "fig1.canvas.toolbar_position = 'bottom'\n",
    "ax1.grid(True)\n",
    "#line, = ax.plot(x_list, q_fin(x_list,k1,hi1,he1), initial_color, label='Q')\n",
    "line1, = ax1.plot(x3, T_tot, color='b', label='T Composite')\n",
    "ax1.set_xlim(0,0.2)\n",
    "ax1.set_ylim(0,1670)\n",
    "ax1.set_xlabel('x')\n",
    "ax1.set_ylabel('T (K)')\n",
    "ax1.legend()\n"
   ]
  },
  {
   "cell_type": "code",
   "execution_count": null,
   "id": "a23b5ccd",
   "metadata": {},
   "outputs": [],
   "source": [
    "#!pip freeze > requirements.txt"
   ]
  },
  {
   "cell_type": "code",
   "execution_count": 166,
   "id": "e2ec3871",
   "metadata": {},
   "outputs": [],
   "source": [
    "#clear_output()\n",
    "#output3"
   ]
  },
  {
   "cell_type": "code",
   "execution_count": 181,
   "id": "6b6c37b5",
   "metadata": {},
   "outputs": [],
   "source": [
    "x1_slider = widgets.FloatSlider(value=e1, min=0.05, max=0.2, step=0.05, description='e1')\n",
    "x2_slider = widgets.FloatSlider(value=e2, min=0.05, max=0.2, step=0.05, description='e2')\n",
    "k1_slider = widgets.FloatSlider(value=k1, min=0.05, max=2, step=0.05, description='k1')\n",
    "k2_slider = widgets.FloatSlider(value=k2, min=0.05, max=2, step=0.05, description='k2')\n",
    "he2_slider = widgets.FloatSlider(value=he1, min=0.05, max=2.05, step=0.05, description='he2')\n",
    "hi_slider = widgets.FloatSlider(value=hi1, min=0.05, max=8, step=0.05, description='hi')\n",
    "\n",
    "# callback functions\n",
    "def update2(change):\n",
    "    \"\"\"redraw line (update plot)\"\"\"\n",
    "    xnew = np.linspace(0,x1_slider.value+x2_slider.value,20)\n",
    "    e1new = np.linspace(0,x1_slider.value,10)\n",
    "    e2new = np.linspace(0,x2_slider.value,10)\n",
    "    Qnew = q_2fin(x1_slider.value,x2_slider.value,k1_slider.value,k2_slider.value,hi_slider.value,he2_slider.value)\n",
    "    T1new,T2new,T3new,T_totnew = T_calc(Qnew, hi_slider.value, k1_slider.value, k2_slider.value, e1new, e2new)\n",
    "    line.set_xdata(xnew)\n",
    "    line.set_ydata(T_totnew)\n",
    "    fig.canvas.draw()\n",
    "    with output4:\n",
    "        clear_output()\n",
    "        print(f\"Heat Flux is {Qnew:.2f} W/m2, T1 = {T1new:.2f} K, T2 = {T2new:.2f} K, T1 = {T3new:.2f} K\")\n",
    "\n",
    "x1_slider.observe(update2, 'value')\n",
    "x2_slider.observe(update2, 'value')\n",
    "k1_slider.observe(update2, 'value')\n",
    "k2_slider.observe(update2, 'value')\n",
    "he2_slider.observe(update2, 'value')\n",
    "hi_slider.observe(update2, 'value')\n"
   ]
  },
  {
   "cell_type": "code",
   "execution_count": 182,
   "id": "2c4ad977",
   "metadata": {},
   "outputs": [
    {
     "data": {
      "application/vnd.jupyter.widget-view+json": {
       "model_id": "edf4278ae0bb4a5a8a225be8538f3210",
       "version_major": 2,
       "version_minor": 0
      },
      "text/plain": [
       "HBox(children=(VBox(children=(FloatSlider(value=0.1, description='e1', max=0.2, min=0.05, step=0.05), FloatSli…"
      ]
     },
     "metadata": {},
     "output_type": "display_data"
    }
   ],
   "source": [
    "clear_output()\n",
    "controls = widgets.VBox([x1_slider, x2_slider, k1_slider, k2_slider, he2_slider, hi_slider, output4])\n",
    "page = widgets.HBox([controls, output3])\n",
    "display(page)"
   ]
  }
 ],
 "metadata": {
  "kernelspec": {
   "display_name": "Python 3",
   "language": "python",
   "name": "python3"
  },
  "language_info": {
   "codemirror_mode": {
    "name": "ipython",
    "version": 3
   },
   "file_extension": ".py",
   "mimetype": "text/x-python",
   "name": "python",
   "nbconvert_exporter": "python",
   "pygments_lexer": "ipython3",
   "version": "3.8.10"
  },
  "varInspector": {
   "cols": {
    "lenName": 16,
    "lenType": 16,
    "lenVar": 40
   },
   "kernels_config": {
    "python": {
     "delete_cmd_postfix": "",
     "delete_cmd_prefix": "del ",
     "library": "var_list.py",
     "varRefreshCmd": "print(var_dic_list())"
    },
    "r": {
     "delete_cmd_postfix": ") ",
     "delete_cmd_prefix": "rm(",
     "library": "var_list.r",
     "varRefreshCmd": "cat(var_dic_list()) "
    }
   },
   "types_to_exclude": [
    "module",
    "function",
    "builtin_function_or_method",
    "instance",
    "_Feature"
   ],
   "window_display": false
  }
 },
 "nbformat": 4,
 "nbformat_minor": 5
}
