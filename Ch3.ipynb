{
 "cells": [
  {
   "cell_type": "code",
   "execution_count": 1,
   "id": "53884a97",
   "metadata": {},
   "outputs": [],
   "source": [
    "#!jupyter nbextension enable --py widgetsnbextension --sys-prefix\n",
    "#!jupyter serverextension enable voila --sys-prefix"
   ]
  },
  {
   "cell_type": "code",
   "execution_count": 99,
   "id": "71704e08",
   "metadata": {
    "scrolled": true
   },
   "outputs": [
    {
     "data": {
      "text/plain": [
       "<matplotlib.legend.Legend at 0x29622028250>"
      ]
     },
     "execution_count": 99,
     "metadata": {},
     "output_type": "execute_result"
    }
   ],
   "source": [
    "%matplotlib widget\n",
    "import ipywidgets as widgets\n",
    "import matplotlib.pyplot as plt\n",
    "import numpy as np\n",
    "from IPython.display import display, clear_output\n",
    "\n",
    "output1 = widgets.Output()\n",
    "output2 = widgets.Output()\n",
    "output3 = widgets.Output()\n",
    "output4 = widgets.Output()\n",
    "# create some x data\n",
    "#x = np.linspace(0, 2 * np.pi, 100)\n",
    "\n",
    "e1 = 0.25 #m\n",
    "e2 = 0.05\n",
    "k1 = 0.2 #W/(m.K)\n",
    "k2 = 0.1\n",
    "he2 = 40\n",
    "Q=400 #W/m3\n",
    "La = np.linspace(0,e1,10)\n",
    "Lb = np.linspace(0,e2,10)\n",
    "#Ltot = np.linspace(0,e1+e2,20)\n",
    "Te = 300 #K\n",
    "qpp = Q*e1\n",
    "\n",
    "def T_B(Qa,ea,h,eb,kb):\n",
    "    q = Qa*ea\n",
    "    Tbr = Te + q/h\n",
    "    Tbl = Tbr + q*eb/kb\n",
    "    return Tbr, Tbl\n",
    "\n",
    "def T_A(Qa,ea,ka, h, eb, kb):\n",
    "    x = np.linspace(0,ea,10)\n",
    "    x2 = np.linspace(0,eb,10)\n",
    "    Ta = []\n",
    "    L = []\n",
    "    TbR, TbL = T_B(Qa,ea,h,eb,kb)\n",
    "    for i in range(len(x)):\n",
    "        Ta.append(-Qa*x[i]*x[i]/(2*ka)+((TbL-Te)/ea+Q*ea/(2*ka))*x[i]+Te)\n",
    "        L.append(x[i])\n",
    "    for i in range(1, len(x2)):\n",
    "        Ta.append((TbR-TbL)*(x[len(x)-1]+x2[i])/x2[len(x2)-1]+(TbL*(x[len(x)-1]+x2[len(x2)-1])-TbR*x[len(x)-1])/x2[len(x2)-1])\n",
    "        L.append(x[len(x)-1]+x2[i])\n",
    "    return L, Ta\n",
    "\n",
    "Ltot, Ttot = T_A(Q,e1,k1, he2, e2, k2)\n",
    "\n",
    "# default line color\n",
    "initial_color = '#FF00DD'\n",
    "\n",
    "with output1:\n",
    "    fig, ax = plt.subplots(constrained_layout=True, figsize=(8, 4))\n",
    "     \n",
    "# move the toolbar to the bottom\n",
    "fig.canvas.toolbar_position = 'bottom'\n",
    "ax.grid(True)\n",
    "#line, = ax.plot(x_list, q_fin(x_list,k1,hi1,he1), initial_color, label='Q')\n",
    "line, = ax.plot(Ltot, Ttot, color='b', label='T')\n",
    "ax.set_xlim(0,0.425)\n",
    "ax.set_ylim(299,400)\n",
    "ax.set_xlabel('x')\n",
    "ax.set_ylabel('T (K)')\n",
    "ax.legend()"
   ]
  },
  {
   "cell_type": "code",
   "execution_count": 100,
   "id": "6308bd70",
   "metadata": {},
   "outputs": [],
   "source": [
    "#output1"
   ]
  },
  {
   "cell_type": "code",
   "execution_count": 101,
   "id": "7fe5d293",
   "metadata": {},
   "outputs": [],
   "source": [
    "text_0 = widgets.HTML(value=\"<p>Consider the case of a composite wall - Wall A and Wall B with Wall A being heat generating. Assume there is not heat resistance between boundaries of Wall A and B. The left side of the Wall A is at ambient temperature of Tair = Tw = 300 K. Wall A has parameters La, Ka, with heat generation Q=400 W/m3. Wall B has parameters Lb, Kb, and h.</p>\")\n",
    "\n",
    "vbox_text = widgets.VBox([text_0])"
   ]
  },
  {
   "cell_type": "code",
   "execution_count": 102,
   "id": "68407311",
   "metadata": {},
   "outputs": [],
   "source": [
    "# create some control elements\n",
    "la_slider = widgets.FloatSlider(value=e1, min=0.15, max=0.35, step=0.05, description='La')\n",
    "lb_slider = widgets.FloatSlider(value=e2, min=0.015, max=0.075, step=0.005, description='Lb')\n",
    "ka_slider = widgets.FloatSlider(value=k1, min=0.05, max=2, step=0.05, description='Ka')\n",
    "kb_slider = widgets.FloatSlider(value=k2, min=0.05, max=2, step=0.05, description='Kb')\n",
    "heb_slider = widgets.FloatSlider(value=he2, min=30, max=50, step=1, description='h')\n",
    "#Q_slider = widgets.FloatSlider(value=Q, min=390, max=500, step=10, description='Q')\n",
    "\n",
    "# callback functions\n",
    "def update1(change):\n",
    "    \"\"\"redraw line (update plot)\"\"\"\n",
    "    xnew, ynew = T_A(Q,la_slider.value,ka_slider.value, heb_slider.value, lb_slider.value, kb_slider.value)\n",
    "    line.set_xdata(xnew)\n",
    "    line.set_ydata(ynew)\n",
    "    fig.canvas.draw()\n",
    "\n",
    "la_slider.observe(update1, 'value')\n",
    "lb_slider.observe(update1, 'value')\n",
    "ka_slider.observe(update1, 'value')\n",
    "kb_slider.observe(update1, 'value')\n",
    "heb_slider.observe(update1, 'value')\n",
    "#Q_slider.observe(update1, 'value')\n"
   ]
  },
  {
   "cell_type": "code",
   "execution_count": 103,
   "id": "78f41732",
   "metadata": {},
   "outputs": [
    {
     "data": {
      "application/vnd.jupyter.widget-view+json": {
       "model_id": "0ad418d029d64121a78e5f299f2125b5",
       "version_major": 2,
       "version_minor": 0
      },
      "text/plain": [
       "HBox(children=(VBox(children=(VBox(children=(HTML(value='<p>Consider the case of a composite wall - Wall A and…"
      ]
     },
     "metadata": {},
     "output_type": "display_data"
    }
   ],
   "source": [
    "clear_output()\n",
    "controls = widgets.VBox([vbox_text, la_slider, lb_slider, ka_slider, kb_slider, heb_slider])\n",
    "page = widgets.HBox([controls, output1])\n",
    "display(page)"
   ]
  },
  {
   "cell_type": "code",
   "execution_count": null,
   "id": "60b67668",
   "metadata": {},
   "outputs": [],
   "source": []
  }
 ],
 "metadata": {
  "kernelspec": {
   "display_name": "Python 3",
   "language": "python",
   "name": "python3"
  },
  "language_info": {
   "codemirror_mode": {
    "name": "ipython",
    "version": 3
   },
   "file_extension": ".py",
   "mimetype": "text/x-python",
   "name": "python",
   "nbconvert_exporter": "python",
   "pygments_lexer": "ipython3",
   "version": "3.8.10"
  },
  "varInspector": {
   "cols": {
    "lenName": 16,
    "lenType": 16,
    "lenVar": 40
   },
   "kernels_config": {
    "python": {
     "delete_cmd_postfix": "",
     "delete_cmd_prefix": "del ",
     "library": "var_list.py",
     "varRefreshCmd": "print(var_dic_list())"
    },
    "r": {
     "delete_cmd_postfix": ") ",
     "delete_cmd_prefix": "rm(",
     "library": "var_list.r",
     "varRefreshCmd": "cat(var_dic_list()) "
    }
   },
   "types_to_exclude": [
    "module",
    "function",
    "builtin_function_or_method",
    "instance",
    "_Feature"
   ],
   "window_display": false
  }
 },
 "nbformat": 4,
 "nbformat_minor": 5
}
