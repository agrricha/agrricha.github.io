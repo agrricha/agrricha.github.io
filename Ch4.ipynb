{
 "cells": [
  {
   "cell_type": "code",
   "execution_count": 1,
   "id": "53884a97",
   "metadata": {},
   "outputs": [],
   "source": [
    "#!jupyter nbextension enable --py widgetsnbextension --sys-prefix\n",
    "#!jupyter serverextension enable voila --sys-prefix"
   ]
  },
  {
   "cell_type": "code",
   "execution_count": 151,
   "id": "71704e08",
   "metadata": {
    "scrolled": true
   },
   "outputs": [
    {
     "data": {
      "text/plain": [
       "Text(0.5, 0, 'T(K)')"
      ]
     },
     "execution_count": 151,
     "metadata": {},
     "output_type": "execute_result"
    }
   ],
   "source": [
    "%matplotlib widget\n",
    "import ipywidgets as widgets\n",
    "import matplotlib.pyplot as plt\n",
    "import matplotlib.pyplot as plt1\n",
    "import numpy as np\n",
    "from IPython.display import display, clear_output\n",
    "from matplotlib import cm\n",
    "from matplotlib.ticker import LinearLocator\n",
    "from mpmath import nsum, exp, inf, sin\n",
    "from mpmath import *\n",
    "\n",
    "output1 = widgets.Output()\n",
    "output2 = widgets.Output()\n",
    "output3 = widgets.Output()\n",
    "# create some x data\n",
    "#x = np.linspace(0, 2 * np.pi, 100)\n",
    "\n",
    "e1 = 0.4 #m\n",
    "T0 = 300 #K\n",
    "pi = 3.14\n",
    "X = np.linspace(0,e1,30)\n",
    "Y = np.linspace(0,e1,30)\n",
    "#Defining x as x/L and y as y/L\n",
    "def T_profile(T0, e, x, y):\n",
    "    T = (4*T0/pi)*nsum(lambda n: exp(-n*pi*y/e)*sin(n*pi*x/e), [0, inf])\n",
    "    return T\n",
    "\n",
    "X1,Y1 = np.meshgrid(X, Y)\n",
    "\n",
    "T_fin = np.zeros((len(X),len(Y)))\n",
    "for i in range(len(X)):\n",
    "    for j in range(len(Y)):\n",
    "        T_fin[i][j] = T_profile(T0, e1, X[i], Y[j])\n",
    "\n",
    "x1 = 0.2\n",
    "y1 = 0.2\n",
    "TxbyL = np.zeros(len(X))\n",
    "for i in range(len(X)):\n",
    "    TxbyL[i]=T_profile(T0, e1, X[i], y1)\n",
    "\n",
    "#print(X,T_fin)\n",
    "#fig = plt.figure(figsize=(4,4))\n",
    "#ax = fig.add_subplot(111, projection='3d')\n",
    "#ax.plot_surface(X1,Y1,T_fin,cmap=cm.coolwarm,\n",
    "                       #linewidth=0, antialiased=False)\n",
    "#plt.show()\n",
    "\n",
    "# default line color\n",
    "initial_color = '#FF00DD'\n",
    "\n",
    "with output1:\n",
    "    fig = plt.figure(constrained_layout=True,figsize=(8,6))\n",
    "    ax = fig.add_subplot(111, projection='3d')\n",
    "    #fig, ax = plt.subplots(constrained_layout=True, figsize=(8, 4))\n",
    "     \n",
    "# move the toolbar to the bottom\n",
    "fig.canvas.toolbar_position = 'bottom'\n",
    "ax.grid(True)\n",
    "#line, = ax.plot(x_list, q_fin(x_list,k1,hi1,he1), initial_color, label='Q')\n",
    "line = ax.plot_surface(X1,Y1,T_fin,cmap=cm.coolwarm,linewidth=0, antialiased=False)\n",
    "ax.set_xlim(0,0.4)\n",
    "ax.set_ylim(0,0.4)\n",
    "ax.set_zlim(0,300)\n",
    "ax.set_xlabel('x')\n",
    "ax.set_ylabel('y')\n",
    "ax.set_zlabel('T(K)')\n",
    "\n",
    "    \n"
   ]
  },
  {
   "cell_type": "code",
   "execution_count": 165,
   "id": "8753b162",
   "metadata": {},
   "outputs": [
    {
     "name": "stdout",
     "output_type": "stream",
     "text": [
      "30 30\n"
     ]
    },
    {
     "data": {
      "text/plain": [
       "Text(0, 0.5, 'T (K)')"
      ]
     },
     "execution_count": 165,
     "metadata": {},
     "output_type": "execute_result"
    }
   ],
   "source": [
    "with output2:\n",
    "    fig1, ax1 = plt.subplots(constrained_layout=True, figsize=(8, 4))\n",
    "\n",
    "fig1.canvas.toolbar_position = 'bottom'\n",
    "ax1.grid(True)\n",
    "#line, = ax.plot(x_list, q_fin(x_list,k1,hi1,he1), initial_color, label='Q')\n",
    "print(len(X), len(TxbyL))\n",
    "line1, = ax.plot(X, TxbyL, color='black', label='T')\n",
    "ax1.set_xlim(0,0.4)\n",
    "ax1.set_ylim(0,300)\n",
    "ax1.set_xlabel('x')\n",
    "ax1.set_ylabel('T (K)')\n",
    "#ax1.legend()"
   ]
  },
  {
   "cell_type": "code",
   "execution_count": 166,
   "id": "0a0c5376",
   "metadata": {},
   "outputs": [
    {
     "data": {
      "application/vnd.jupyter.widget-view+json": {
       "model_id": "d51cd2a780bf48239872dce40b249997",
       "version_major": 2,
       "version_minor": 0
      },
      "text/plain": [
       "Output(outputs=({'output_type': 'display_data', 'data': {'text/plain': \"Canvas(toolbar=Toolbar(toolitems=[('Ho…"
      ]
     },
     "metadata": {},
     "output_type": "display_data"
    }
   ],
   "source": [
    "output2"
   ]
  },
  {
   "cell_type": "code",
   "execution_count": 133,
   "id": "6f14a36b",
   "metadata": {},
   "outputs": [],
   "source": [
    "text_0 = widgets.HTML(value=\"<p>Consider the case of a composite wall - Wall A and Wall B with Wall A being heat generating. Assume there is not heat resistance between boundaries of Wall A and B. The left side of the Wall A is at ambient temperature of Tair = Tw = 300 K. Wall A has parameters La, Ka, with heat generation Q=400 W/m3. Wall B has parameters Lb, Kb, and h.</p>\")\n",
    "\n",
    "vbox_text = widgets.VBox([text_0])"
   ]
  },
  {
   "cell_type": "code",
   "execution_count": 134,
   "id": "68407311",
   "metadata": {},
   "outputs": [],
   "source": [
    "# create some control elements\n",
    "la_slider = widgets.FloatSlider(value=e1, min=0.15, max=0.35, step=0.05, description='La')\n",
    "lb_slider = widgets.FloatSlider(value=e2, min=0.015, max=0.075, step=0.005, description='Lb')\n",
    "ka_slider = widgets.FloatSlider(value=k1, min=0.05, max=2, step=0.05, description='Ka')\n",
    "kb_slider = widgets.FloatSlider(value=k2, min=0.05, max=2, step=0.05, description='Kb')\n",
    "heb_slider = widgets.FloatSlider(value=he2, min=30, max=50, step=1, description='h')\n",
    "#Q_slider = widgets.FloatSlider(value=Q, min=390, max=500, step=10, description='Q')\n",
    "\n",
    "# callback functions\n",
    "def update1(change):\n",
    "    \"\"\"redraw line (update plot)\"\"\"\n",
    "    xnew, ynew = T_A(Q,la_slider.value,ka_slider.value, heb_slider.value, lb_slider.value, kb_slider.value)\n",
    "    line.set_xdata(xnew)\n",
    "    line.set_ydata(ynew)\n",
    "    fig.canvas.draw()\n",
    "\n",
    "button = widgets.Button(description=\"Reset\")\n",
    "def on_button_clicked(b):\n",
    "    with output1:\n",
    "        la_slider.value = e1\n",
    "        lb_slider.value = e2\n",
    "        ka_slider.value = k1\n",
    "        kb_slider.value = k2\n",
    "        heb_slider.value = he2\n",
    "\n",
    "button.on_click(on_button_clicked)\n",
    "\n",
    "la_slider.observe(update1, 'value')\n",
    "lb_slider.observe(update1, 'value')\n",
    "ka_slider.observe(update1, 'value')\n",
    "kb_slider.observe(update1, 'value')\n",
    "heb_slider.observe(update1, 'value')\n",
    "#Q_slider.observe(update1, 'value')\n"
   ]
  },
  {
   "cell_type": "code",
   "execution_count": 135,
   "id": "78f41732",
   "metadata": {},
   "outputs": [
    {
     "data": {
      "application/vnd.jupyter.widget-view+json": {
       "model_id": "99d5d5ca8043477aafc7e4d653ee3c70",
       "version_major": 2,
       "version_minor": 0
      },
      "text/plain": [
       "HBox(children=(VBox(children=(VBox(children=(HTML(value='<p>Consider the case of a composite wall - Wall A and…"
      ]
     },
     "metadata": {},
     "output_type": "display_data"
    }
   ],
   "source": [
    "clear_output()\n",
    "controls = widgets.VBox([vbox_text, la_slider, lb_slider, ka_slider, kb_slider, heb_slider, button])\n",
    "page = widgets.HBox([controls, output1])\n",
    "display(page)"
   ]
  },
  {
   "cell_type": "code",
   "execution_count": null,
   "id": "baad7e45",
   "metadata": {},
   "outputs": [],
   "source": []
  }
 ],
 "metadata": {
  "kernelspec": {
   "display_name": "Python 3",
   "language": "python",
   "name": "python3"
  },
  "language_info": {
   "codemirror_mode": {
    "name": "ipython",
    "version": 3
   },
   "file_extension": ".py",
   "mimetype": "text/x-python",
   "name": "python",
   "nbconvert_exporter": "python",
   "pygments_lexer": "ipython3",
   "version": "3.8.10"
  },
  "varInspector": {
   "cols": {
    "lenName": 16,
    "lenType": 16,
    "lenVar": 40
   },
   "kernels_config": {
    "python": {
     "delete_cmd_postfix": "",
     "delete_cmd_prefix": "del ",
     "library": "var_list.py",
     "varRefreshCmd": "print(var_dic_list())"
    },
    "r": {
     "delete_cmd_postfix": ") ",
     "delete_cmd_prefix": "rm(",
     "library": "var_list.r",
     "varRefreshCmd": "cat(var_dic_list()) "
    }
   },
   "types_to_exclude": [
    "module",
    "function",
    "builtin_function_or_method",
    "instance",
    "_Feature"
   ],
   "window_display": false
  }
 },
 "nbformat": 4,
 "nbformat_minor": 5
}
